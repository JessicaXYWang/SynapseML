{
 "cells": [
  {
   "cell_type": "markdown",
   "metadata": {},
   "source": [
    "# Setting up Cognitive Services and Azure OpenAI resources for SynapseML \n",
    "\n",
    "In order to use SynapseML's OpenAI or Cognitive Services features, specific Azure resources are required. This documentation walks you through the process of setting up these resources and acquiring the necessary credentials.\n",
    "\n",
    "To utilize SynapseML's OpenAI or Cognitive Services features, you need to create resources and obtain the API key."
   ]
  },
  {
   "cell_type": "markdown",
   "metadata": {},
   "source": [
    "## Azure OpenAI resource\n",
    "\n",
    "The Azure OpenAI service can be used to solve a large number of natural language tasks through prompting the completion API. To make it easier to scale your prompting workflows from a few examples to large datasets of examples, we have integrated the Azure OpenAI service with the distributed machine learning library SynapseML. This integration makes it easy to use the Apache Spark distributed computing framework to process millions of prompts with the OpenAI service."
   ]
  },
  {
   "cell_type": "markdown",
   "metadata": {
    "tags": [
     "openai-prerequisites"
    ]
   },
   "source": [
    "To Create a new Azure OpenAI Resource and obtain an OpenAI API key, you need\n",
    "* An Azure OpenAI resource – Currently, access to this service is granted only by application. You can apply for access to Azure OpenAI by request access [here](https://aka.ms/oai/access).\n",
    "* Follow the steps in the [Creating an Azure OpenAI resource](https://docs.microsoft.com/azure/cognitive-services/openai/how-to/create-resource?pivots=web-portal#create-a-resource) documentation."
   ]
  },
  {
   "cell_type": "markdown",
   "metadata": {},
   "source": [
    "## Cognitive Services resource"
   ]
  },
  {
   "cell_type": "markdown",
   "metadata": {
    "tags": [
     "cognitive-services-prerequisites"
    ]
   },
   "source": [
    "Create a Cognitive Services resource. After you create a Cognitive Service resource in the Azure portal, you'll get an endpoint and a key for authenticating your applications. To create a new Cognitive Services resource, you need\n",
    "* A valid Azure subscription - [Create one for free](https://azure.microsoft.com/free/cognitive-services/).\n",
    "* Cognitive Services Contributor role assigned in order to agree to the responsible AI terms and create a resource. Follow the steps in the [assign roles](https://learn.microsoft.com/azure/role-based-access-control/role-assignments-steps) documentation.\n",
    "* To create an Azure Cognitive multi-service (Decision, Language, Speech, Vision) resource: [create a multi-service Cognitive Services resource](https://portal.azure.com/#create/Microsoft.CognitiveServicesAllInOne). Alternatively, you can follow the steps in the [create Single-service resource](https://learn.microsoft.com/en-us/azure/cognitive-services/cognitive-services-apis-create-account?tabs=decision%2Canomaly-detector%2Clanguage-service%2Ccomputer-vision%2Cwindows#create-a-new-azure-cognitive-services-resource) documentation.\n",
    "* Get the keys for your resource. After your resource is successfully deployed, select **Next Steps** > **Go to resource**. From the quickstart pane that opens, you can access the resource endpoint and manage keys.\n"
   ]
  }
 ],
 "metadata": {
  "language_info": {
   "name": "python"
  },
  "orig_nbformat": 4
 },
 "nbformat": 4,
 "nbformat_minor": 2
}
